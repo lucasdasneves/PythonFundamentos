{
 "cells": [
  {
   "cell_type": "markdown",
   "metadata": {},
   "source": [
    "# <font color='blue'>Data Science Academy - Python Fundamentos - Capítulo 2</font>\n",
    "\n",
    "## Download: http://github.com/dsacademybr"
   ]
  },
  {
   "cell_type": "code",
   "execution_count": 1,
   "metadata": {},
   "outputs": [
    {
     "name": "stdout",
     "output_type": "stream",
     "text": [
      "Versão da Linguagem Python Usada Neste Jupyter Notebook: 3.7.6\n"
     ]
    }
   ],
   "source": [
    "# Versão da Linguagem Python\n",
    "from platform import python_version\n",
    "print('Versão da Linguagem Python Usada Neste Jupyter Notebook:', python_version())"
   ]
  },
  {
   "cell_type": "markdown",
   "metadata": {},
   "source": [
    "## Exercícios Cap02"
   ]
  },
  {
   "cell_type": "code",
   "execution_count": 49,
   "metadata": {},
   "outputs": [
    {
     "name": "stdout",
     "output_type": "stream",
     "text": [
      "[1, 2, 3, 4, 5, 6, 7, 8, 9, 10]\n",
      "[0]\n",
      "[1]\n",
      "[2]\n",
      "[3]\n",
      "[4]\n",
      "[5]\n",
      "[6]\n",
      "[7]\n",
      "[8]\n",
      "[9]\n"
     ]
    }
   ],
   "source": [
    "# Exercício 1 - Imprima na tela os números de 1 a 10. Use uma lista para armazenar os números.\n",
    "exercise1 = [1,2,3,4,5,6,7,8,9,10]\n",
    "print(exercise1)\n",
    "\n",
    "exercise1_2 = []\n",
    "for exercise1_2 in range(0,10):\n",
    "    print([exercise1_2])"
   ]
  },
  {
   "cell_type": "code",
   "execution_count": 7,
   "metadata": {},
   "outputs": [
    {
     "name": "stdout",
     "output_type": "stream",
     "text": [
      "[7, 'Júlia', 'Caderno', 'PS5', 9]\n"
     ]
    }
   ],
   "source": [
    "# Exercício 2 - Crie uma lista de 5 objetos e imprima na tela\n",
    "exercise = [7, \"Júlia\", \"Caderno\", \"PS5\", 9]\n",
    "print(exercise)"
   ]
  },
  {
   "cell_type": "code",
   "execution_count": 10,
   "metadata": {},
   "outputs": [
    {
     "name": "stdout",
     "output_type": "stream",
     "text": [
      "PomadaAvonLG\n"
     ]
    }
   ],
   "source": [
    "# Exercício 3 - Crie duas strings e concatene as duas em uma terceira string\n",
    "string1 = \"Pomada\"\n",
    "string2 = \"Avon\"\n",
    "string3 = \"LG\"\n",
    "string4 = string1 + string2 +string3\n",
    "print(string4)"
   ]
  },
  {
   "cell_type": "code",
   "execution_count": 17,
   "metadata": {},
   "outputs": [
    {
     "name": "stdout",
     "output_type": "stream",
     "text": [
      "(1, 2, 2, 3, 4, 4, 4, 5)\n",
      "3\n"
     ]
    }
   ],
   "source": [
    "# Exercício 4 - Crie uma tupla com os seguintes elementos: 1, 2, 2, 3, 4, 4, 4, 5 e depois utilize a função count do \n",
    "# objeto tupla para verificar quantas vezes o número 4 aparece na tupla\n",
    "tup = (1, 2, 2, 3, 4, 4, 4, 5)\n",
    "print(tup)\n",
    "coun_t = tup.count(4)\n",
    "print(coun_t)"
   ]
  },
  {
   "cell_type": "code",
   "execution_count": 19,
   "metadata": {},
   "outputs": [
    {
     "name": "stdout",
     "output_type": "stream",
     "text": [
      "{}\n"
     ]
    }
   ],
   "source": [
    "# Exercício 5 - Crie um dicionário vazio e imprima na tela\n",
    "\n",
    "empt = {}\n",
    "empt = dict()\n",
    "print(empt)"
   ]
  },
  {
   "cell_type": "code",
   "execution_count": 26,
   "metadata": {},
   "outputs": [
    {
     "name": "stdout",
     "output_type": "stream",
     "text": [
      "{'k1': 'Guardiola', 'k2': 'Klopp', 'k3': 'Ortega'}\n"
     ]
    }
   ],
   "source": [
    "# Exercício 6 - Crie um dicionário com 3 chaves e 3 valores e imprima na tela\n",
    "\n",
    "dic_t1 = {\"k1\": \"Guardiola\",\"k2\": \"Klopp\",\"k3\":\"Ortega\"}\n",
    "print(dic_t1)"
   ]
  },
  {
   "cell_type": "code",
   "execution_count": 31,
   "metadata": {},
   "outputs": [
    {
     "name": "stdout",
     "output_type": "stream",
     "text": [
      "{'k1': 'Guardiola', 'k2': 'Klopp', 'k3': 'Ortega', 'K4': 'Simeone'}\n",
      "{'k1': 'Guardiola', 'k2': 'Klopp', 'k3': 'Ortega', 'K4': 'Simeone'}\n"
     ]
    }
   ],
   "source": [
    "# Exercício 7 - Adicione mais um elemento ao dicionário criado no exercício anterior e imprima na tela\n",
    "\n",
    "print(dic_t1)\n",
    "dic_t1['K4'] = 'Simeone'\n",
    "print(dic_t1)"
   ]
  },
  {
   "cell_type": "code",
   "execution_count": 36,
   "metadata": {},
   "outputs": [
    {
     "data": {
      "text/plain": [
       "{'K1': 'Huxley', 'K2': 'Hamilton', 'K3': [100, 200]}"
      ]
     },
     "execution_count": 36,
     "metadata": {},
     "output_type": "execute_result"
    }
   ],
   "source": [
    "# Exercício 8 - Crie um dicionário com 3 chaves e 3 valores. Um dos valores deve ser uma lista de 2 elementos numéricos. \n",
    "# Imprima o dicionário na tela.\n",
    "\n",
    "dic_t = dict()\n",
    "dic_t['K1'] = 'Huxley'\n",
    "dic_t['K2'] = 'Hamilton'\n",
    "\n",
    "dic_t['K3'] = [100, 200]\n",
    "\n",
    "dic_t"
   ]
  },
  {
   "cell_type": "code",
   "execution_count": 46,
   "metadata": {},
   "outputs": [
    {
     "data": {
      "text/plain": [
       "['Batata', ('Alçafrão', 'Noz Moscada'), {'K1': 'Soja', 'K2': 'Cenoura'}, 2.1]"
      ]
     },
     "execution_count": 46,
     "metadata": {},
     "output_type": "execute_result"
    }
   ],
   "source": [
    "# Exercício 9 - Crie uma lista de 4 elementos. O primeiro elemento deve ser uma string, \n",
    "# o segundo uma tupla de 2 elementos, o terceiro um dcionário com 2 chaves e 2 valores e \n",
    "# o quarto elemento um valor do tipo float.\n",
    "# Imprima a lista na tela.\n",
    "\n",
    "lis_t = list()\n",
    "lis_t\n",
    "\n",
    "lis_t.insert(0,'Batata')\n",
    "lis_t\n",
    "\n",
    "lis_t.insert(1, ('Alçafrão', 'Noz Moscada'))\n",
    "lis_t\n",
    "\n",
    "lis_t.insert(2,{'K1':'Soja','K2':'Cenoura'})\n",
    "lis_t\n",
    "\n",
    "lis_t.insert(3,float(2.10))\n",
    "lis_t"
   ]
  },
  {
   "cell_type": "code",
   "execution_count": 48,
   "metadata": {},
   "outputs": [
    {
     "name": "stdout",
     "output_type": "stream",
     "text": [
      "Cientista de Dados é o profissional mais sexy do século XXI\n",
      "Cientista de Dados \n"
     ]
    }
   ],
   "source": [
    "# Exercício 10 - Considere a string abaixo. Imprima na tela apenas os caracteres da posição 1 a 18.\n",
    "frase = 'Cientista de Dados é o profissional mais sexy do século XXI'\n",
    "\n",
    "print(frase)\n",
    "\n",
    "print(frase[0:19])"
   ]
  },
  {
   "cell_type": "markdown",
   "metadata": {},
   "source": [
    "# Fim"
   ]
  },
  {
   "cell_type": "markdown",
   "metadata": {},
   "source": [
    "### Obrigado - Data Science Academy - <a href=\"http://facebook.com/dsacademybr\">facebook.com/dsacademybr</a>"
   ]
  }
 ],
 "metadata": {
  "kernelspec": {
   "display_name": "Python 3",
   "language": "python",
   "name": "python3"
  },
  "language_info": {
   "codemirror_mode": {
    "name": "ipython",
    "version": 3
   },
   "file_extension": ".py",
   "mimetype": "text/x-python",
   "name": "python",
   "nbconvert_exporter": "python",
   "pygments_lexer": "ipython3",
   "version": "3.7.6"
  }
 },
 "nbformat": 4,
 "nbformat_minor": 1
}
